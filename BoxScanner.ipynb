version https://git-lfs.github.com/spec/v1
oid sha256:be01813cc822003540611dc66a1e007506e699fe4b63bf35c068978844484fe3
size 151897125

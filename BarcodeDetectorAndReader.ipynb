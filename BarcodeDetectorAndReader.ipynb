version https://git-lfs.github.com/spec/v1
oid sha256:2e799fed26e250a1cb3e3dcfb2fbe7d3759e7ce9c7a3957b0e6bc656ba3582ab
size 53270
